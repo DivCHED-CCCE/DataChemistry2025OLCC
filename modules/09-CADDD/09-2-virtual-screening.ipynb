{
 "cells": [
  {
   "cell_type": "markdown",
   "metadata": {},
   "source": [
    "# Virtual Screening"
   ]
  },
  {
   "cell_type": "markdown",
   "metadata": {},
   "source": [
    "<div class=\"alert alert-block alert-info\">\n",
    "<Strong>Objectives</strong>\n",
    "\n",
    "- Perform virtual screening against PubChem using ligand-based approach\n",
    "- Apply filters to prioritize virtual screening hit list.\n",
    "- Learn how to use pandas' data frame."
   ]
  },
  {
   "cell_type": "markdown",
   "metadata": {},
   "source": [
    "In this notebook, we perform virtual screening against PubChem using a set of known ligands for muscle glycogen phosphorylase.  Compound filters will be applied to identify drug-like compounds and unique structures in terms of canonical SMILES will be selected to remove redundant structures.  For some top-ranked compounds in the list, their binding mode will be predicted using machine learning (which will be covered in Unit 13: Artificial Intelligence 2: Supervised machine learning)."
   ]
  },
  {
   "cell_type": "markdown",
   "metadata": {},
   "source": [
    "## 1. Read known ligands from a file."
   ]
  },
  {
   "cell_type": "markdown",
   "metadata": {},
   "source": [
    "As a starting point, let's download a set of known ligands against muscle glycogen phosphorylase.  These data are obtained from the DUD-E (Directory of Useful Decoys, Enhanced) data sets (http://dude.docking.org/), which contain known actives and inactives for 102 protein targets.  The DUD-E sets are widely used in benchmarking studies that compare the performance of different virtual screening approaches (https://doi.org/10.1021/jm300687e)."
   ]
  },
  {
   "cell_type": "markdown",
   "metadata": {},
   "source": [
    "Go to the DUD-E target page (http://dude.docking.org/targets) and find muscle glycogen phosphorylase (Target Name: PYGM, PDB ID: 1c8k) from the target list.  Clicking the target name \"PYGM\" directs you to the page that lists various files (http://dude.docking.org/targets/pygm).  Download file \"**actives_final.ism**\", which contains the SMILES strings of known actives.  Rename the file name as \"**pygm_1c8k_actives.ism**\".  \\[Open the file in a text viewer/editor to check the format of this file\\]."
   ]
  },
  {
   "cell_type": "code",
   "execution_count": 1,
   "metadata": {},
   "outputs": [],
   "source": [
    "import pandas as pd"
   ]
  },
  {
   "cell_type": "code",
   "execution_count": 2,
   "metadata": {},
   "outputs": [
    {
     "data": {
      "text/html": [
       "<div>\n",
       "<style scoped>\n",
       "    .dataframe tbody tr th:only-of-type {\n",
       "        vertical-align: middle;\n",
       "    }\n",
       "\n",
       "    .dataframe tbody tr th {\n",
       "        vertical-align: top;\n",
       "    }\n",
       "\n",
       "    .dataframe thead th {\n",
       "        text-align: right;\n",
       "    }\n",
       "</style>\n",
       "<table border=\"1\" class=\"dataframe\">\n",
       "  <thead>\n",
       "    <tr style=\"text-align: right;\">\n",
       "      <th></th>\n",
       "      <th>smiles</th>\n",
       "      <th>DUD-E ID</th>\n",
       "      <th>CHEMBL_ID</th>\n",
       "    </tr>\n",
       "  </thead>\n",
       "  <tbody>\n",
       "    <tr>\n",
       "      <th>0</th>\n",
       "      <td>c1ccc2cc(c(cc2c1)NC(=O)c3cc(ccn3)N(=O)=O)Oc4cc...</td>\n",
       "      <td>220668</td>\n",
       "      <td>CHEMBL134802</td>\n",
       "    </tr>\n",
       "    <tr>\n",
       "      <th>1</th>\n",
       "      <td>CC1=C(C(C(=C(N1Cc2ccc(cc2)Cl)C(=O)O)C(=O)O)c3c...</td>\n",
       "      <td>189331</td>\n",
       "      <td>CHEMBL115651</td>\n",
       "    </tr>\n",
       "    <tr>\n",
       "      <th>2</th>\n",
       "      <td>CCN1C(=C(C(C(=C1C(=O)O)C(=O)O)c2ccccc2Cl)C(=O)...</td>\n",
       "      <td>188996</td>\n",
       "      <td>CHEMBL113736</td>\n",
       "    </tr>\n",
       "    <tr>\n",
       "      <th>3</th>\n",
       "      <td>c1cc(c(c(c1)F)NC(=O)c2cc(ccn2)N(=O)=O)Oc3ccc(c...</td>\n",
       "      <td>219845</td>\n",
       "      <td>CHEMBL133911</td>\n",
       "    </tr>\n",
       "    <tr>\n",
       "      <th>4</th>\n",
       "      <td>CC1=C(C(C(=C(N1Cc2cccc(c2)N(=O)=O)C(=O)O)C(=O)...</td>\n",
       "      <td>189034</td>\n",
       "      <td>CHEMBL423509</td>\n",
       "    </tr>\n",
       "  </tbody>\n",
       "</table>\n",
       "</div>"
      ],
      "text/plain": [
       "                                              smiles  DUD-E ID     CHEMBL_ID\n",
       "0  c1ccc2cc(c(cc2c1)NC(=O)c3cc(ccn3)N(=O)=O)Oc4cc...    220668  CHEMBL134802\n",
       "1  CC1=C(C(C(=C(N1Cc2ccc(cc2)Cl)C(=O)O)C(=O)O)c3c...    189331  CHEMBL115651\n",
       "2  CCN1C(=C(C(C(=C1C(=O)O)C(=O)O)c2ccccc2Cl)C(=O)...    188996  CHEMBL113736\n",
       "3  c1cc(c(c(c1)F)NC(=O)c2cc(ccn2)N(=O)=O)Oc3ccc(c...    219845  CHEMBL133911\n",
       "4  CC1=C(C(C(=C(N1Cc2cccc(c2)N(=O)=O)C(=O)O)C(=O)...    189034  CHEMBL423509"
      ]
     },
     "execution_count": 2,
     "metadata": {},
     "output_type": "execute_result"
    }
   ],
   "source": [
    "colnames = ['smiles','DUD-E ID', 'CHEMBL_ID']\n",
    "df_act = pd.read_csv(\"https://dude.docking.org/targets/pygm/actives_final.ism\", sep=\" \", names=colnames)\n",
    "df_act.head(5)"
   ]
  },
  {
   "cell_type": "code",
   "execution_count": 3,
   "metadata": {},
   "outputs": [
    {
     "name": "stdout",
     "output_type": "stream",
     "text": [
      "77\n"
     ]
    }
   ],
   "source": [
    "print(len(df_act))    # Show how many structures are in the \"data frame\""
   ]
  },
  {
   "cell_type": "markdown",
   "metadata": {},
   "source": [
    "## 2. Similarity Search against PubChem"
   ]
  },
  {
   "cell_type": "markdown",
   "metadata": {},
   "source": [
    "Now, let's perform similarity search against PubChem using each known active compound as a query.  There are a few things to mention in this step:\n",
    "\n",
    "- The isomeric SMILES string is available for each query compound. This string will be used to specify the input structure, so HTTP POST should be used.  (Please review lecture02-structure-inputs.ipynb)\n",
    "\n",
    "- During PubChem's similarity search, molecular similarity is evaluated using the **PubChem fingerprints** and **Tanimoto** coefficient.  By default, similarity search will return compounds with Tanimoto scores of **0.9 or higher**.  While we will use the default threshold in this practice, it is noteworthy that it is adjustable.  If you use a higher threshold (e.g., 0.99), you will get a fewer hits, which are too similar to the query compounds.  If you use a lower threshold (e.g., 0.88), you will get more hits, but they will include more false positives.\n",
    "\n",
    "- PubChem's similarity search does **not** return the similarity scores between the query and hit compounds.  Only the hit compound list is returned, which makes it difficult to rank the hit compounds for compound selection.  To address this issue, for each hit compound, we compute **the number of query compounds that returned that compound as a hit.**  \\[Because we are using multiple query compounds for similarity search, it is possible for different query compounds to return the same compound as a hit.  That is, the hit compound may be similar to multiple query compounds.  The underlying assumption is that hit compounds returned multiple times from different queries are more likely to be active than those returned only once from a single query.\\]\n",
    "\n",
    "- Add \"time.sleep()\" to avoid overloading PubChem servers and getting blocked."
   ]
  },
  {
   "cell_type": "code",
   "execution_count": 4,
   "metadata": {},
   "outputs": [],
   "source": [
    "smiles_act = df_act.smiles.to_list()"
   ]
  },
  {
   "cell_type": "code",
   "execution_count": 5,
   "metadata": {},
   "outputs": [],
   "source": [
    "# Note: \n",
    "# This code block may take a while to run, as it queries PubChem for each structure.\n",
    "# It took about 2 minutes in testing\n",
    "\n",
    "import time\n",
    "import requests\n",
    "\n",
    "prolog = \"https://pubchem.ncbi.nlm.nih.gov/rest/pug\"\n",
    "\n",
    "cids_hit = dict()\n",
    "\n",
    "for idx, mysmiles in enumerate(smiles_act) :\n",
    "    \n",
    "    mydata = { 'smiles' : mysmiles }\n",
    "    \n",
    "    url = prolog + \"/compound/fastsimilarity_2d/smiles/cids/txt\"\n",
    "    res = requests.post(url, data=mydata)\n",
    "\n",
    "    if ( res.status_code == 200 ) :\n",
    "        cids = res.text.split()\n",
    "        cids = [ int(x) for x in cids ]    # Convert CIDs from string to integer.\n",
    "    else :\n",
    "        print(\"Error at\", idx, \":\", df_act.loc[idx,'CHEMBL_ID'], mysmiles )\n",
    "        print(res.status_code)\n",
    "        print(res.content)\n",
    "    \n",
    "    for mycid in cids:\n",
    "        cids_hit[mycid] = cids_hit.get(mycid, 0) + 1\n",
    "    \n",
    "    time.sleep(0.2)"
   ]
  },
  {
   "cell_type": "code",
   "execution_count": 6,
   "metadata": {},
   "outputs": [
    {
     "data": {
      "text/plain": [
       "28526"
      ]
     },
     "execution_count": 6,
     "metadata": {},
     "output_type": "execute_result"
    }
   ],
   "source": [
    "len(cids_hit)    # Show the number of compounds returned from any query."
   ]
  },
  {
   "cell_type": "markdown",
   "metadata": {},
   "source": [
    "In the above code cells, the returned hits are stored in a dictionary, along with the number of times they are returned.  Let's print the top 10 compounds that are returned the most number of times from the search."
   ]
  },
  {
   "cell_type": "code",
   "execution_count": 7,
   "metadata": {},
   "outputs": [
    {
     "name": "stdout",
     "output_type": "stream",
     "text": [
      "0 (16, 44354348)\n",
      "1 (15, 44354370)\n",
      "2 (15, 44354349)\n",
      "3 (15, 44354322)\n",
      "4 (13, 44357907)\n",
      "5 (12, 44357938)\n",
      "6 (12, 44357937)\n",
      "7 (12, 44354455)\n",
      "8 (12, 44354454)\n",
      "9 (12, 44354362)\n"
     ]
    }
   ],
   "source": [
    "sorted_by_freq = [ (v, k) for k, v in cids_hit.items() ]\n",
    "sorted_by_freq.sort(reverse=True)\n",
    "\n",
    "for v, k in enumerate(sorted_by_freq) :\n",
    "\n",
    "    if v == 10 : \n",
    "        break\n",
    "    \n",
    "    print(v, k) # Print (frequency, CID)\n",
    "    "
   ]
  },
  {
   "cell_type": "markdown",
   "metadata": {},
   "source": [
    "## 3. Exclude the query compounds from the hits"
   ]
  },
  {
   "cell_type": "markdown",
   "metadata": {},
   "source": [
    "In the previous step, we repeated similarity searches using multiple query molecules.  This may result in a query molecule being returned as a hit from similarity search using another query molecule.  Therefore, we want to check if the hit compound list has any query compounds and if any, we want to remove them.  Below, we search PubChem for compounds identical to the query molecules and remove them from the hit compound list.<p>\n",
    "Note that the identity_type parameter in the PUG-REST request is set to \"**same_connectivity**\", which will return compounds with the same connectivity with the query molecule (ignoring stereochemistry and isotope information).  The default for this parameter is \"same_stereo_isotope\", which returns compounds with the same stereochemistry AND isotope information."
   ]
  },
  {
   "cell_type": "code",
   "execution_count": 8,
   "metadata": {},
   "outputs": [],
   "source": [
    "# This code cell make take some time to run, as it queries PubChem for each structure.\n",
    "# It took about 1 minute in testing\n",
    "\n",
    "cids_query = dict()\n",
    "\n",
    "for idx, mysmiles in enumerate(smiles_act) :\n",
    "    \n",
    "    mydata = { 'smiles' : mysmiles }\n",
    "    url = prolog + \"/compound/fastidentity/smiles/cids/txt?identity_type=same_connectivity\"\n",
    "    res = requests.post(url, data=mydata)\n",
    "\n",
    "    if ( res.status_code == 200 ) :\n",
    "        cids = res.text.split()\n",
    "        cids = [ int(x) for x in cids]\n",
    "    else :\n",
    "        print(\"Error at\", idx, \":\", df_act.loc[idx,'id'], mysmiles )\n",
    "        print(res.status_code)\n",
    "        print(res.content)\n",
    "       \n",
    "    for mycid in cids:\n",
    "        cids_query[mycid] = cids_query.get(mycid, 0) + 1\n",
    "    \n",
    "    time.sleep(0.2)"
   ]
  },
  {
   "cell_type": "code",
   "execution_count": 9,
   "metadata": {},
   "outputs": [
    {
     "data": {
      "text/plain": [
       "138"
      ]
     },
     "execution_count": 9,
     "metadata": {},
     "output_type": "execute_result"
    }
   ],
   "source": [
    "len(cids_query.keys())    # Show the number of CIDs that represent the query compounds."
   ]
  },
  {
   "cell_type": "markdown",
   "metadata": {},
   "source": [
    "Now remove the query compounds from the hit list (if they are found in the list)"
   ]
  },
  {
   "cell_type": "code",
   "execution_count": 10,
   "metadata": {},
   "outputs": [],
   "source": [
    "for mycid in cids_query.keys() :\n",
    "    \n",
    "    cids_hit.pop(mycid, None)"
   ]
  },
  {
   "cell_type": "code",
   "execution_count": 11,
   "metadata": {},
   "outputs": [
    {
     "data": {
      "text/plain": [
       "28388"
      ]
     },
     "execution_count": 11,
     "metadata": {},
     "output_type": "execute_result"
    }
   ],
   "source": [
    "len(cids_hit)"
   ]
  },
  {
   "cell_type": "markdown",
   "metadata": {},
   "source": [
    "Print the top 10 compounds in the current hit list and compare them with the old ones."
   ]
  },
  {
   "cell_type": "code",
   "execution_count": 12,
   "metadata": {},
   "outputs": [
    {
     "name": "stdout",
     "output_type": "stream",
     "text": [
      "0 (12, 11779854)\n",
      "1 (11, 168140615)\n",
      "2 (11, 166196489)\n",
      "3 (11, 141135915)\n",
      "4 (11, 118078858)\n",
      "5 (11, 93077065)\n",
      "6 (11, 93077064)\n",
      "7 (11, 53013349)\n",
      "8 (11, 51808718)\n",
      "9 (11, 45369696)\n"
     ]
    }
   ],
   "source": [
    "sorted_by_freq = [ (v, k) for k, v in cids_hit.items() ]\n",
    "sorted_by_freq.sort(reverse=True)\n",
    "\n",
    "for v, k in enumerate(sorted_by_freq) :\n",
    "    \n",
    "    if v == 10 : \n",
    "        break\n",
    "    \n",
    "    print(v, k)    # Print (frequency, CID)\n"
   ]
  },
  {
   "cell_type": "markdown",
   "metadata": {},
   "source": [
    "<div class=\"alert alert-block alert-warning\">\n",
    "<Strong>Check Your Understanding</strong>\n",
    "\n",
    "- How many molecules were returned from the original query?\n",
    "- How many molecules were returned were the query compounds?\n",
    "- Does the number of molecules in len(cids_hits) confirm you have removed the query compounds from the original list?\n",
    "- Have the top 10 compounds in hit list changed? Does this confirm you have removed the query compounds from the original list?"
   ]
  },
  {
   "cell_type": "markdown",
   "metadata": {},
   "source": [
    "## 4. Filtering out non-drug-like compounds"
   ]
  },
  {
   "cell_type": "markdown",
   "metadata": {},
   "source": [
    "We want to identify problematic compounds to exclude from virtual screening. These are molecules that are not absorbed well and may not be good for an orally administered drug. \n",
    "\n",
    "A team at Pfizer led by Christopher Lipinski evaluated 2245 compounds that reached phase II clinical trials and determined most orally administered drugs are relatively small and moderately lipophilic. This lead to the <a href =\"https://pubmed.ncbi.nlm.nih.gov/11259830/\">\"Rule of 5\" for \"drug-likeness\"</a> and helps determine whether a molecule has good solubility and permeability. The team suggests that a good lead follow has characteristics based on the number 5:\n",
    "\n",
    "- Molecular weight < 500\n",
    "- no more than 5 hydrogen bond donors\n",
    "- no more than 10 hydrogen bond acceptors\n",
    "- a calculated octanol-water partician coefficent (XLogP) <5\n",
    "\n",
    "In this step, non-drug-like compounds are filtered out from the list using these criteria.  To do that, these four molecular properties are downloaded from PubChem and stored in CSV."
   ]
  },
  {
   "cell_type": "code",
   "execution_count": 13,
   "metadata": {},
   "outputs": [
    {
     "name": "stdout",
     "output_type": "stream",
     "text": [
      "# Number of chunks: 284\n",
      "0 1 2 3 4 5 6 7 8 9 10 11 12 13 14 15 16 17 18 19 20 21 22 23 24 25 26 27 28 29 30 31 32 33 34 35 36 37 38 39 40 41 42 43 44 45 46 47 48 49 50 51 52 53 54 55 56 57 58 59 60 61 62 63 64 65 66 67 68 69 70 71 72 73 74 75 76 77 78 79 80 81 82 83 84 85 86 87 88 89 90 91 92 93 94 95 96 97 98 99 100 101 102 103 104 105 106 107 108 109 110 111 112 113 114 115 116 117 118 119 120 121 122 123 124 125 126 127 128 129 130 131 132 133 134 135 136 137 138 139 140 141 142 143 144 145 146 147 148 149 150 151 152 153 154 155 156 157 158 159 160 161 162 163 164 165 166 167 168 169 170 171 172 173 174 175 176 177 178 179 180 181 182 183 184 185 186 187 188 189 190 191 192 193 194 195 196 197 198 199 200 201 202 203 204 205 206 207 208 209 210 211 212 213 214 215 216 217 218 219 220 221 222 223 224 225 226 227 228 229 230 231 232 233 234 235 236 237 238 239 240 241 242 243 244 245 246 247 248 249 250 251 252 253 254 255 256 257 258 259 260 261 262 263 264 265 266 267 268 269 270 271 272 273 274 275 276 277 278 279 280 281 282 283 "
     ]
    }
   ],
   "source": [
    "# This code cell may take a while to run, as it queries PubChem for each structure.\n",
    "# It took about 4 minutes in testing\n",
    "chunk_size = 100\n",
    "\n",
    "if ( len(cids_hit) % chunk_size == 0 ) :\n",
    "    num_chunks = len(cids_hit) // chunk_size \n",
    "else :\n",
    "    num_chunks = len(cids_hit) // chunk_size + 1\n",
    "\n",
    "cids_list = list(cids_hit.keys())\n",
    "    \n",
    "print(\"# Number of chunks:\", num_chunks )\n",
    "\n",
    "csv = \"\"   #sets a variable called csv to save the comma separated output\n",
    "\n",
    "for i in range(num_chunks) :\n",
    "    \n",
    "    print(i, end=\" \")\n",
    "    \n",
    "    idx1 = chunk_size * i\n",
    "    idx2 = chunk_size * (i + 1)\n",
    "\n",
    "    cids_str = \",\".join([ str(x) for x in cids_list[idx1:idx2] ]) # build pug input for chunks of data\n",
    "    url = prolog + \"/compound/cid/\" + cids_str + \"/property/HBondDonorCount,HBondAcceptorCount,MolecularWeight,XLogP,CanonicalSMILES,IsomericSMILES/csv\"\n",
    "    \n",
    "    res = requests.get(url)\n",
    "    \n",
    "    if ( i == 0 ) : # if this is the first request, store result in empty csv variable\n",
    "        csv = res.text \n",
    "    else :          # if this is a subsequent request, add the request to the csv variable adding a new line between chunks\n",
    "        csv = csv + \"\\n\".join(res.text.split()[1:]) + \"\\n\" \n",
    "      \n",
    "    time.sleep(0.2)\n",
    "\n",
    "# print(csv)"
   ]
  },
  {
   "cell_type": "markdown",
   "metadata": {},
   "source": [
    "Downloaded data (in CSV) are loaded into a pandas data frame."
   ]
  },
  {
   "cell_type": "code",
   "execution_count": 14,
   "metadata": {},
   "outputs": [
    {
     "data": {
      "text/plain": [
       "(28388, 7)"
      ]
     },
     "execution_count": 14,
     "metadata": {},
     "output_type": "execute_result"
    }
   ],
   "source": [
    "from io import StringIO\n",
    "\n",
    "csv_file = StringIO(csv)\n",
    "\n",
    "df_raw = pd.read_csv(csv_file, sep=\",\")\n",
    "\n",
    "df_raw.shape    # Show the shape (dimension) of the data frame"
   ]
  },
  {
   "cell_type": "code",
   "execution_count": 15,
   "metadata": {},
   "outputs": [
    {
     "data": {
      "text/html": [
       "<div>\n",
       "<style scoped>\n",
       "    .dataframe tbody tr th:only-of-type {\n",
       "        vertical-align: middle;\n",
       "    }\n",
       "\n",
       "    .dataframe tbody tr th {\n",
       "        vertical-align: top;\n",
       "    }\n",
       "\n",
       "    .dataframe thead th {\n",
       "        text-align: right;\n",
       "    }\n",
       "</style>\n",
       "<table border=\"1\" class=\"dataframe\">\n",
       "  <thead>\n",
       "    <tr style=\"text-align: right;\">\n",
       "      <th></th>\n",
       "      <th>CID</th>\n",
       "      <th>HBondDonorCount</th>\n",
       "      <th>HBondAcceptorCount</th>\n",
       "      <th>MolecularWeight</th>\n",
       "      <th>XLogP</th>\n",
       "      <th>ConnectivitySMILES</th>\n",
       "      <th>SMILES</th>\n",
       "    </tr>\n",
       "  </thead>\n",
       "  <tbody>\n",
       "    <tr>\n",
       "      <th>0</th>\n",
       "      <td>1731763</td>\n",
       "      <td>0</td>\n",
       "      <td>5</td>\n",
       "      <td>454.0</td>\n",
       "      <td>5.5</td>\n",
       "      <td>CCOC(=O)C1=C(N(C(=C(C1C2=CC=C(C=C2)Cl)C(=O)OCC...</td>\n",
       "      <td>CCOC(=O)C1=C(N(C(=C(C1C2=CC=C(C=C2)Cl)C(=O)OCC...</td>\n",
       "    </tr>\n",
       "    <tr>\n",
       "      <th>1</th>\n",
       "      <td>21795259</td>\n",
       "      <td>0</td>\n",
       "      <td>5</td>\n",
       "      <td>454.0</td>\n",
       "      <td>5.5</td>\n",
       "      <td>CCOC(=O)C1=C(N(C(=C(C1C2=CC=CC=C2Cl)C(=O)OCC)C...</td>\n",
       "      <td>CCOC(=O)C1=C(N(C(=C(C1C2=CC=CC=C2Cl)C(=O)OCC)C...</td>\n",
       "    </tr>\n",
       "    <tr>\n",
       "      <th>2</th>\n",
       "      <td>155906259</td>\n",
       "      <td>0</td>\n",
       "      <td>5</td>\n",
       "      <td>439.9</td>\n",
       "      <td>6.3</td>\n",
       "      <td>CCOC(=O)C1=C(N(C(=C(C1C2=CC=CC=C2Cl)C(=O)OC)C)...</td>\n",
       "      <td>CCOC(=O)C1=C(N(C(=C(C1C2=CC=CC=C2Cl)C(=O)OC)C)...</td>\n",
       "    </tr>\n",
       "    <tr>\n",
       "      <th>3</th>\n",
       "      <td>9910160</td>\n",
       "      <td>3</td>\n",
       "      <td>4</td>\n",
       "      <td>422.9</td>\n",
       "      <td>4.4</td>\n",
       "      <td>CC1=C(C(C(=C(N1)C)C(=O)O)C2=CC(=CC=C2)Cl)C(=O)...</td>\n",
       "      <td>CC1=C(C(C(=C(N1)C)C(=O)O)C2=CC(=CC=C2)Cl)C(=O)...</td>\n",
       "    </tr>\n",
       "    <tr>\n",
       "      <th>4</th>\n",
       "      <td>9823695</td>\n",
       "      <td>3</td>\n",
       "      <td>4</td>\n",
       "      <td>424.9</td>\n",
       "      <td>4.6</td>\n",
       "      <td>CC1=C(C(C(=C(N1)C)C(=O)O)C2=CC(=CC=C2)Cl)C(=O)...</td>\n",
       "      <td>CC1=C(C(C(=C(N1)C)C(=O)O)C2=CC(=CC=C2)Cl)C(=O)...</td>\n",
       "    </tr>\n",
       "  </tbody>\n",
       "</table>\n",
       "</div>"
      ],
      "text/plain": [
       "         CID  HBondDonorCount  HBondAcceptorCount  MolecularWeight  XLogP  \\\n",
       "0    1731763                0                   5            454.0    5.5   \n",
       "1   21795259                0                   5            454.0    5.5   \n",
       "2  155906259                0                   5            439.9    6.3   \n",
       "3    9910160                3                   4            422.9    4.4   \n",
       "4    9823695                3                   4            424.9    4.6   \n",
       "\n",
       "                                  ConnectivitySMILES  \\\n",
       "0  CCOC(=O)C1=C(N(C(=C(C1C2=CC=C(C=C2)Cl)C(=O)OCC...   \n",
       "1  CCOC(=O)C1=C(N(C(=C(C1C2=CC=CC=C2Cl)C(=O)OCC)C...   \n",
       "2  CCOC(=O)C1=C(N(C(=C(C1C2=CC=CC=C2Cl)C(=O)OC)C)...   \n",
       "3  CC1=C(C(C(=C(N1)C)C(=O)O)C2=CC(=CC=C2)Cl)C(=O)...   \n",
       "4  CC1=C(C(C(=C(N1)C)C(=O)O)C2=CC(=CC=C2)Cl)C(=O)...   \n",
       "\n",
       "                                              SMILES  \n",
       "0  CCOC(=O)C1=C(N(C(=C(C1C2=CC=C(C=C2)Cl)C(=O)OCC...  \n",
       "1  CCOC(=O)C1=C(N(C(=C(C1C2=CC=CC=C2Cl)C(=O)OCC)C...  \n",
       "2  CCOC(=O)C1=C(N(C(=C(C1C2=CC=CC=C2Cl)C(=O)OC)C)...  \n",
       "3  CC1=C(C(C(=C(N1)C)C(=O)O)C2=CC(=CC=C2)Cl)C(=O)...  \n",
       "4  CC1=C(C(C(=C(N1)C)C(=O)O)C2=CC(=CC=C2)Cl)C(=O)...  "
      ]
     },
     "execution_count": 15,
     "metadata": {},
     "output_type": "execute_result"
    }
   ],
   "source": [
    "df_raw.head(5)    # Show the first 5 rows of the data frame"
   ]
  },
  {
   "cell_type": "markdown",
   "metadata": {},
   "source": [
    "Note that some compounds do not have computed XLogP values (because XLogP algorithm cannot handle inorganic compounds, salts, and mixtures) and we want to remove them."
   ]
  },
  {
   "cell_type": "code",
   "execution_count": 16,
   "metadata": {},
   "outputs": [
    {
     "data": {
      "text/plain": [
       "CID                     0\n",
       "HBondDonorCount         0\n",
       "HBondAcceptorCount      0\n",
       "MolecularWeight         0\n",
       "XLogP                 926\n",
       "ConnectivitySMILES      0\n",
       "SMILES                  0\n",
       "dtype: int64"
      ]
     },
     "execution_count": 16,
     "metadata": {},
     "output_type": "execute_result"
    }
   ],
   "source": [
    "df_raw.isna().sum()    # Check if there are any NULL values."
   ]
  },
  {
   "cell_type": "code",
   "execution_count": 17,
   "metadata": {},
   "outputs": [
    {
     "data": {
      "text/plain": [
       "28388"
      ]
     },
     "execution_count": 17,
     "metadata": {},
     "output_type": "execute_result"
    }
   ],
   "source": [
    "len(df_raw)    # Check the number of rows (which is equals to the number of CIDs)"
   ]
  },
  {
   "cell_type": "markdown",
   "metadata": {},
   "source": [
    "For convenience, add the information contained in the **cids_hit** dictionary to this data frame"
   ]
  },
  {
   "cell_type": "code",
   "execution_count": 18,
   "metadata": {},
   "outputs": [
    {
     "data": {
      "text/html": [
       "<div>\n",
       "<style scoped>\n",
       "    .dataframe tbody tr th:only-of-type {\n",
       "        vertical-align: middle;\n",
       "    }\n",
       "\n",
       "    .dataframe tbody tr th {\n",
       "        vertical-align: top;\n",
       "    }\n",
       "\n",
       "    .dataframe thead th {\n",
       "        text-align: right;\n",
       "    }\n",
       "</style>\n",
       "<table border=\"1\" class=\"dataframe\">\n",
       "  <thead>\n",
       "    <tr style=\"text-align: right;\">\n",
       "      <th></th>\n",
       "      <th>CID</th>\n",
       "      <th>HitFreq</th>\n",
       "    </tr>\n",
       "  </thead>\n",
       "  <tbody>\n",
       "    <tr>\n",
       "      <th>0</th>\n",
       "      <td>1731763</td>\n",
       "      <td>2</td>\n",
       "    </tr>\n",
       "    <tr>\n",
       "      <th>1</th>\n",
       "      <td>21795259</td>\n",
       "      <td>4</td>\n",
       "    </tr>\n",
       "    <tr>\n",
       "      <th>2</th>\n",
       "      <td>155906259</td>\n",
       "      <td>4</td>\n",
       "    </tr>\n",
       "    <tr>\n",
       "      <th>3</th>\n",
       "      <td>9910160</td>\n",
       "      <td>3</td>\n",
       "    </tr>\n",
       "    <tr>\n",
       "      <th>4</th>\n",
       "      <td>9823695</td>\n",
       "      <td>3</td>\n",
       "    </tr>\n",
       "  </tbody>\n",
       "</table>\n",
       "</div>"
      ],
      "text/plain": [
       "         CID  HitFreq\n",
       "0    1731763        2\n",
       "1   21795259        4\n",
       "2  155906259        4\n",
       "3    9910160        3\n",
       "4    9823695        3"
      ]
     },
     "execution_count": 18,
     "metadata": {},
     "output_type": "execute_result"
    }
   ],
   "source": [
    "# First load the cids_hit dictionary into a data frame.\n",
    "df_freq = pd.DataFrame( cids_hit.items(), columns=['CID','HitFreq'])\n",
    "df_freq.head(5)"
   ]
  },
  {
   "cell_type": "code",
   "execution_count": 19,
   "metadata": {},
   "outputs": [
    {
     "data": {
      "text/html": [
       "<div>\n",
       "<style scoped>\n",
       "    .dataframe tbody tr th:only-of-type {\n",
       "        vertical-align: middle;\n",
       "    }\n",
       "\n",
       "    .dataframe tbody tr th {\n",
       "        vertical-align: top;\n",
       "    }\n",
       "\n",
       "    .dataframe thead th {\n",
       "        text-align: right;\n",
       "    }\n",
       "</style>\n",
       "<table border=\"1\" class=\"dataframe\">\n",
       "  <thead>\n",
       "    <tr style=\"text-align: right;\">\n",
       "      <th></th>\n",
       "      <th>CID</th>\n",
       "      <th>HitFreq</th>\n",
       "    </tr>\n",
       "  </thead>\n",
       "  <tbody>\n",
       "    <tr>\n",
       "      <th>840</th>\n",
       "      <td>11779854</td>\n",
       "      <td>12</td>\n",
       "    </tr>\n",
       "    <tr>\n",
       "      <th>1921</th>\n",
       "      <td>168140615</td>\n",
       "      <td>11</td>\n",
       "    </tr>\n",
       "    <tr>\n",
       "      <th>3700</th>\n",
       "      <td>166196489</td>\n",
       "      <td>11</td>\n",
       "    </tr>\n",
       "    <tr>\n",
       "      <th>1658</th>\n",
       "      <td>141135915</td>\n",
       "      <td>11</td>\n",
       "    </tr>\n",
       "    <tr>\n",
       "      <th>1489</th>\n",
       "      <td>118078858</td>\n",
       "      <td>11</td>\n",
       "    </tr>\n",
       "    <tr>\n",
       "      <th>3176</th>\n",
       "      <td>93077065</td>\n",
       "      <td>11</td>\n",
       "    </tr>\n",
       "    <tr>\n",
       "      <th>3175</th>\n",
       "      <td>93077064</td>\n",
       "      <td>11</td>\n",
       "    </tr>\n",
       "    <tr>\n",
       "      <th>1011</th>\n",
       "      <td>53013349</td>\n",
       "      <td>11</td>\n",
       "    </tr>\n",
       "    <tr>\n",
       "      <th>2562</th>\n",
       "      <td>51808718</td>\n",
       "      <td>11</td>\n",
       "    </tr>\n",
       "    <tr>\n",
       "      <th>2363</th>\n",
       "      <td>45369696</td>\n",
       "      <td>11</td>\n",
       "    </tr>\n",
       "  </tbody>\n",
       "</table>\n",
       "</div>"
      ],
      "text/plain": [
       "            CID  HitFreq\n",
       "840    11779854       12\n",
       "1921  168140615       11\n",
       "3700  166196489       11\n",
       "1658  141135915       11\n",
       "1489  118078858       11\n",
       "3176   93077065       11\n",
       "3175   93077064       11\n",
       "1011   53013349       11\n",
       "2562   51808718       11\n",
       "2363   45369696       11"
      ]
     },
     "execution_count": 19,
     "metadata": {},
     "output_type": "execute_result"
    }
   ],
   "source": [
    "# Double-check if the data are loaded correctly\n",
    "# Compare the data with those from Cell [12]\n",
    "df_freq.sort_values(by=['HitFreq', 'CID'], ascending=False).head(10)"
   ]
  },
  {
   "cell_type": "code",
   "execution_count": 20,
   "metadata": {},
   "outputs": [
    {
     "data": {
      "text/plain": [
       "(28388, 8)"
      ]
     },
     "execution_count": 20,
     "metadata": {},
     "output_type": "execute_result"
    }
   ],
   "source": [
    "# Create a new data frame called \"df\" by joining the df and df_freq data frames\n",
    "df = df_raw.join(df_freq.set_index('CID'), on='CID')\n",
    "df.shape"
   ]
  },
  {
   "cell_type": "code",
   "execution_count": 21,
   "metadata": {},
   "outputs": [
    {
     "data": {
      "text/html": [
       "<div>\n",
       "<style scoped>\n",
       "    .dataframe tbody tr th:only-of-type {\n",
       "        vertical-align: middle;\n",
       "    }\n",
       "\n",
       "    .dataframe tbody tr th {\n",
       "        vertical-align: top;\n",
       "    }\n",
       "\n",
       "    .dataframe thead th {\n",
       "        text-align: right;\n",
       "    }\n",
       "</style>\n",
       "<table border=\"1\" class=\"dataframe\">\n",
       "  <thead>\n",
       "    <tr style=\"text-align: right;\">\n",
       "      <th></th>\n",
       "      <th>CID</th>\n",
       "      <th>HBondDonorCount</th>\n",
       "      <th>HBondAcceptorCount</th>\n",
       "      <th>MolecularWeight</th>\n",
       "      <th>XLogP</th>\n",
       "      <th>ConnectivitySMILES</th>\n",
       "      <th>SMILES</th>\n",
       "      <th>HitFreq</th>\n",
       "    </tr>\n",
       "  </thead>\n",
       "  <tbody>\n",
       "    <tr>\n",
       "      <th>840</th>\n",
       "      <td>11779854</td>\n",
       "      <td>3</td>\n",
       "      <td>2</td>\n",
       "      <td>305.3</td>\n",
       "      <td>2.6</td>\n",
       "      <td>C1C(C(=O)NC2=CC=CC=C21)NC(=O)C3=CC4=CC=CC=C4N3</td>\n",
       "      <td>C1C(C(=O)NC2=CC=CC=C21)NC(=O)C3=CC4=CC=CC=C4N3</td>\n",
       "      <td>12</td>\n",
       "    </tr>\n",
       "    <tr>\n",
       "      <th>1921</th>\n",
       "      <td>168140615</td>\n",
       "      <td>3</td>\n",
       "      <td>2</td>\n",
       "      <td>319.4</td>\n",
       "      <td>3.0</td>\n",
       "      <td>CC1=C2C(=CC=C1)C=C(N2)C(=O)NC3CC4=CC=CC=C4NC3=O</td>\n",
       "      <td>CC1=C2C(=CC=C1)C=C(N2)C(=O)NC3CC4=CC=CC=C4NC3=O</td>\n",
       "      <td>11</td>\n",
       "    </tr>\n",
       "    <tr>\n",
       "      <th>3700</th>\n",
       "      <td>166196489</td>\n",
       "      <td>2</td>\n",
       "      <td>3</td>\n",
       "      <td>390.5</td>\n",
       "      <td>3.0</td>\n",
       "      <td>CN1CCN(CC1CC2=CC=CC=C2)C(=O)CNC(=O)C3=CC4=CC=C...</td>\n",
       "      <td>CN1CCN(CC1CC2=CC=CC=C2)C(=O)CNC(=O)C3=CC4=CC=C...</td>\n",
       "      <td>11</td>\n",
       "    </tr>\n",
       "    <tr>\n",
       "      <th>1658</th>\n",
       "      <td>141135915</td>\n",
       "      <td>1</td>\n",
       "      <td>1</td>\n",
       "      <td>290.4</td>\n",
       "      <td>4.2</td>\n",
       "      <td>CC1CCC2=CC=CC=C2N1C(=O)C3=CC4=CC=CC=C4N3</td>\n",
       "      <td>CC1CCC2=CC=CC=C2N1C(=O)C3=CC4=CC=CC=C4N3</td>\n",
       "      <td>11</td>\n",
       "    </tr>\n",
       "    <tr>\n",
       "      <th>1489</th>\n",
       "      <td>118078858</td>\n",
       "      <td>1</td>\n",
       "      <td>2</td>\n",
       "      <td>333.4</td>\n",
       "      <td>3.0</td>\n",
       "      <td>CC1CN(C2=CC=CC=C2N1C(=O)C)C(=O)C3=CC4=CC=CC=C4N3</td>\n",
       "      <td>C[C@H]1CN(C2=CC=CC=C2N1C(=O)C)C(=O)C3=CC4=CC=C...</td>\n",
       "      <td>11</td>\n",
       "    </tr>\n",
       "    <tr>\n",
       "      <th>3176</th>\n",
       "      <td>93077065</td>\n",
       "      <td>2</td>\n",
       "      <td>2</td>\n",
       "      <td>409.5</td>\n",
       "      <td>4.8</td>\n",
       "      <td>C1CC2=CC=CC=C2N(C1)C(=O)C(C3=CC=CC=C3)NC(=O)C4...</td>\n",
       "      <td>C1CC2=CC=CC=C2N(C1)C(=O)[C@@H](C3=CC=CC=C3)NC(...</td>\n",
       "      <td>11</td>\n",
       "    </tr>\n",
       "    <tr>\n",
       "      <th>3175</th>\n",
       "      <td>93077064</td>\n",
       "      <td>2</td>\n",
       "      <td>2</td>\n",
       "      <td>409.5</td>\n",
       "      <td>4.8</td>\n",
       "      <td>C1CC2=CC=CC=C2N(C1)C(=O)C(C3=CC=CC=C3)NC(=O)C4...</td>\n",
       "      <td>C1CC2=CC=CC=C2N(C1)C(=O)[C@H](C3=CC=CC=C3)NC(=...</td>\n",
       "      <td>11</td>\n",
       "    </tr>\n",
       "    <tr>\n",
       "      <th>1011</th>\n",
       "      <td>53013349</td>\n",
       "      <td>2</td>\n",
       "      <td>2</td>\n",
       "      <td>409.5</td>\n",
       "      <td>4.8</td>\n",
       "      <td>C1CC2=CC=CC=C2N(C1)C(=O)C(C3=CC=CC=C3)NC(=O)C4...</td>\n",
       "      <td>C1CC2=CC=CC=C2N(C1)C(=O)C(C3=CC=CC=C3)NC(=O)C4...</td>\n",
       "      <td>11</td>\n",
       "    </tr>\n",
       "    <tr>\n",
       "      <th>2562</th>\n",
       "      <td>51808718</td>\n",
       "      <td>2</td>\n",
       "      <td>3</td>\n",
       "      <td>390.5</td>\n",
       "      <td>2.9</td>\n",
       "      <td>CC(C(=O)N1CCN(CC1)CC2=CC=CC=C2)NC(=O)C3=CC4=CC...</td>\n",
       "      <td>C[C@H](C(=O)N1CCN(CC1)CC2=CC=CC=C2)NC(=O)C3=CC...</td>\n",
       "      <td>11</td>\n",
       "    </tr>\n",
       "    <tr>\n",
       "      <th>2363</th>\n",
       "      <td>45369696</td>\n",
       "      <td>2</td>\n",
       "      <td>3</td>\n",
       "      <td>390.5</td>\n",
       "      <td>2.9</td>\n",
       "      <td>CC(C(=O)N1CCN(CC1)CC2=CC=CC=C2)NC(=O)C3=CC4=CC...</td>\n",
       "      <td>CC(C(=O)N1CCN(CC1)CC2=CC=CC=C2)NC(=O)C3=CC4=CC...</td>\n",
       "      <td>11</td>\n",
       "    </tr>\n",
       "  </tbody>\n",
       "</table>\n",
       "</div>"
      ],
      "text/plain": [
       "            CID  HBondDonorCount  HBondAcceptorCount  MolecularWeight  XLogP  \\\n",
       "840    11779854                3                   2            305.3    2.6   \n",
       "1921  168140615                3                   2            319.4    3.0   \n",
       "3700  166196489                2                   3            390.5    3.0   \n",
       "1658  141135915                1                   1            290.4    4.2   \n",
       "1489  118078858                1                   2            333.4    3.0   \n",
       "3176   93077065                2                   2            409.5    4.8   \n",
       "3175   93077064                2                   2            409.5    4.8   \n",
       "1011   53013349                2                   2            409.5    4.8   \n",
       "2562   51808718                2                   3            390.5    2.9   \n",
       "2363   45369696                2                   3            390.5    2.9   \n",
       "\n",
       "                                     ConnectivitySMILES  \\\n",
       "840      C1C(C(=O)NC2=CC=CC=C21)NC(=O)C3=CC4=CC=CC=C4N3   \n",
       "1921    CC1=C2C(=CC=C1)C=C(N2)C(=O)NC3CC4=CC=CC=C4NC3=O   \n",
       "3700  CN1CCN(CC1CC2=CC=CC=C2)C(=O)CNC(=O)C3=CC4=CC=C...   \n",
       "1658           CC1CCC2=CC=CC=C2N1C(=O)C3=CC4=CC=CC=C4N3   \n",
       "1489   CC1CN(C2=CC=CC=C2N1C(=O)C)C(=O)C3=CC4=CC=CC=C4N3   \n",
       "3176  C1CC2=CC=CC=C2N(C1)C(=O)C(C3=CC=CC=C3)NC(=O)C4...   \n",
       "3175  C1CC2=CC=CC=C2N(C1)C(=O)C(C3=CC=CC=C3)NC(=O)C4...   \n",
       "1011  C1CC2=CC=CC=C2N(C1)C(=O)C(C3=CC=CC=C3)NC(=O)C4...   \n",
       "2562  CC(C(=O)N1CCN(CC1)CC2=CC=CC=C2)NC(=O)C3=CC4=CC...   \n",
       "2363  CC(C(=O)N1CCN(CC1)CC2=CC=CC=C2)NC(=O)C3=CC4=CC...   \n",
       "\n",
       "                                                 SMILES  HitFreq  \n",
       "840      C1C(C(=O)NC2=CC=CC=C21)NC(=O)C3=CC4=CC=CC=C4N3       12  \n",
       "1921    CC1=C2C(=CC=C1)C=C(N2)C(=O)NC3CC4=CC=CC=C4NC3=O       11  \n",
       "3700  CN1CCN(CC1CC2=CC=CC=C2)C(=O)CNC(=O)C3=CC4=CC=C...       11  \n",
       "1658           CC1CCC2=CC=CC=C2N1C(=O)C3=CC4=CC=CC=C4N3       11  \n",
       "1489  C[C@H]1CN(C2=CC=CC=C2N1C(=O)C)C(=O)C3=CC4=CC=C...       11  \n",
       "3176  C1CC2=CC=CC=C2N(C1)C(=O)[C@@H](C3=CC=CC=C3)NC(...       11  \n",
       "3175  C1CC2=CC=CC=C2N(C1)C(=O)[C@H](C3=CC=CC=C3)NC(=...       11  \n",
       "1011  C1CC2=CC=CC=C2N(C1)C(=O)C(C3=CC=CC=C3)NC(=O)C4...       11  \n",
       "2562  C[C@H](C(=O)N1CCN(CC1)CC2=CC=CC=C2)NC(=O)C3=CC...       11  \n",
       "2363  CC(C(=O)N1CCN(CC1)CC2=CC=CC=C2)NC(=O)C3=CC4=CC...       11  "
      ]
     },
     "execution_count": 21,
     "metadata": {},
     "output_type": "execute_result"
    }
   ],
   "source": [
    "df.sort_values(by=['HitFreq', 'CID'], ascending=False).head(10)"
   ]
  },
  {
   "cell_type": "markdown",
   "metadata": {},
   "source": [
    "\n",
    "\n",
    "Now identify and remove those compounds that satisfy all criteria of Lipinski's rule of five."
   ]
  },
  {
   "cell_type": "code",
   "execution_count": 22,
   "metadata": {},
   "outputs": [
    {
     "data": {
      "text/plain": [
       "28308"
      ]
     },
     "execution_count": 22,
     "metadata": {},
     "output_type": "execute_result"
    }
   ],
   "source": [
    "len(df[ df['HBondDonorCount'] <= 5 ])"
   ]
  },
  {
   "cell_type": "code",
   "execution_count": 23,
   "metadata": {},
   "outputs": [
    {
     "data": {
      "text/plain": [
       "28370"
      ]
     },
     "execution_count": 23,
     "metadata": {},
     "output_type": "execute_result"
    }
   ],
   "source": [
    "len(df[ df['HBondAcceptorCount'] <= 10 ])"
   ]
  },
  {
   "cell_type": "code",
   "execution_count": 24,
   "metadata": {},
   "outputs": [
    {
     "data": {
      "text/plain": [
       "27396"
      ]
     },
     "execution_count": 24,
     "metadata": {},
     "output_type": "execute_result"
    }
   ],
   "source": [
    "len(df[ df['MolecularWeight'] <= 500 ])"
   ]
  },
  {
   "cell_type": "code",
   "execution_count": 25,
   "metadata": {},
   "outputs": [
    {
     "data": {
      "text/plain": [
       "24543"
      ]
     },
     "execution_count": 25,
     "metadata": {},
     "output_type": "execute_result"
    }
   ],
   "source": [
    "len(df[ df['XLogP'] < 5 ])"
   ]
  },
  {
   "cell_type": "code",
   "execution_count": 26,
   "metadata": {},
   "outputs": [],
   "source": [
    "df = df[ ( df['HBondDonorCount'] <= 5) &\n",
    "         ( df['HBondAcceptorCount'] <= 10 ) &\n",
    "         ( df['MolecularWeight'] <= 500 ) &\n",
    "         ( df['XLogP'] < 5 ) ]"
   ]
  },
  {
   "cell_type": "code",
   "execution_count": 27,
   "metadata": {},
   "outputs": [
    {
     "data": {
      "text/plain": [
       "24043"
      ]
     },
     "execution_count": 27,
     "metadata": {},
     "output_type": "execute_result"
    }
   ],
   "source": [
    "len(df)"
   ]
  },
  {
   "cell_type": "code",
   "execution_count": 28,
   "metadata": {},
   "outputs": [
    {
     "data": {
      "text/plain": [
       "CID                   0\n",
       "HBondDonorCount       0\n",
       "HBondAcceptorCount    0\n",
       "MolecularWeight       0\n",
       "XLogP                 0\n",
       "ConnectivitySMILES    0\n",
       "SMILES                0\n",
       "HitFreq               0\n",
       "dtype: int64"
      ]
     },
     "execution_count": 28,
     "metadata": {},
     "output_type": "execute_result"
    }
   ],
   "source": [
    "df.isna().sum()    # Check if there are any NULL values."
   ]
  },
  {
   "cell_type": "markdown",
   "metadata": {},
   "source": [
    "<div class=\"alert alert-block alert-warning\">\n",
    "<Strong>Check Your Understanding</strong>\n",
    "\n",
    "- How many molecules were in the raw dataset of molecules that had Tanimoto Similarity of 0.9?\n",
    "- How many molecules were removed because they didn't follow the Rule of 5?\n",
    "- How were null values treated in the applying the Rule of 5?"
   ]
  },
  {
   "cell_type": "markdown",
   "metadata": {},
   "source": [
    "## 5. Draw the structures of the top 10 compounds"
   ]
  },
  {
   "cell_type": "markdown",
   "metadata": {},
   "source": [
    "Let's check the structure of the top 10 compounds in the hit list."
   ]
  },
  {
   "cell_type": "code",
   "execution_count": 29,
   "metadata": {},
   "outputs": [],
   "source": [
    "cids_top = df.sort_values(by=['HitFreq', 'CID'], ascending=False).head(10).CID.to_list()"
   ]
  },
  {
   "cell_type": "code",
   "execution_count": 31,
   "metadata": {},
   "outputs": [
    {
     "data": {
      "image/png": "[encoded data removed]",
      "text/plain": [
       "<IPython.core.display.Image object>"
      ]
     },
     "metadata": {},
     "output_type": "display_data"
    }
   ],
   "source": [
    "from rdkit import Chem\n",
    "from rdkit.Chem import Draw\n",
    "\n",
    "mols = []\n",
    "\n",
    "for mycid in cids_top :\n",
    "    \n",
    "    mysmiles = df[ df.CID==mycid ].ConnectivitySMILES.item()\n",
    "    \n",
    "    mol = Chem.MolFromSmiles( mysmiles )\n",
    "    Chem.FindPotentialStereoBonds(mol)    # Identify potential stereo bonds!\n",
    "    mols.append(mol)\n",
    "\n",
    "mylegends = [ \"CID \" + str(x) for x in cids_top ]\n",
    "img = Draw.MolsToGridImage(mols, molsPerRow=5, subImgSize=(200,200), legends=mylegends)\n",
    "display(img)"
   ]
  },
  {
   "cell_type": "markdown",
   "metadata": {},
   "source": [
    "An important observation from these images is that the hit list contains multiple compounds with the same connectivity.  For example, CIDs 93077065 and 93077064 are stereoisomers of each other and CID 53013349 has the same connectivity as the two CIDs, but with its stereocenter being unspecified. When performing a screening with limited resources in the early stage of drug discovery, you may want to test as diverse molecules as possible, avoiding testing too similar structures."
   ]
  },
  {
   "cell_type": "markdown",
   "metadata": {},
   "source": [
    "To do so, let's look into PubChem's canonical SMILES strings, which do not encode the stereochemisry and isotope information.  Chemicals with the same connectivity but with different stereochemistry/isotopes should have the same canonical SMILES.  In the next section, we select unique compounds in terms of canonical SMILES to reduce the number of compounds to screen."
   ]
  },
  {
   "cell_type": "markdown",
   "metadata": {},
   "source": [
    "## 6. Extract unique compounds in terms of canonical SMILES"
   ]
  },
  {
   "cell_type": "markdown",
   "metadata": {},
   "source": [
    "The next few cells show how to get unique values within a column (in this case, unique canonical SMILES)."
   ]
  },
  {
   "cell_type": "code",
   "execution_count": 32,
   "metadata": {},
   "outputs": [
    {
     "data": {
      "text/plain": [
       "24043"
      ]
     },
     "execution_count": 32,
     "metadata": {},
     "output_type": "execute_result"
    }
   ],
   "source": [
    "# Show the number of rows in the data frame\n",
    "len(df) "
   ]
  },
  {
   "cell_type": "code",
   "execution_count": 34,
   "metadata": {},
   "outputs": [
    {
     "data": {
      "text/plain": [
       "19112"
      ]
     },
     "execution_count": 34,
     "metadata": {},
     "output_type": "execute_result"
    }
   ],
   "source": [
    "# Show the number of unique structures in the data frame\n",
    "len(df.ConnectivitySMILES.unique()) "
   ]
  },
  {
   "cell_type": "code",
   "execution_count": 44,
   "metadata": {},
   "outputs": [],
   "source": [
    "# Get unique structures\n",
    "canonical_smiles = df.ConnectivitySMILES.unique() "
   ]
  },
  {
   "cell_type": "code",
   "execution_count": 47,
   "metadata": {},
   "outputs": [
    {
     "data": {
      "text/html": [
       "<div>\n",
       "<style scoped>\n",
       "    .dataframe tbody tr th:only-of-type {\n",
       "        vertical-align: middle;\n",
       "    }\n",
       "\n",
       "    .dataframe tbody tr th {\n",
       "        vertical-align: top;\n",
       "    }\n",
       "\n",
       "    .dataframe thead th {\n",
       "        text-align: right;\n",
       "    }\n",
       "</style>\n",
       "<table border=\"1\" class=\"dataframe\">\n",
       "  <thead>\n",
       "    <tr style=\"text-align: right;\">\n",
       "      <th></th>\n",
       "      <th>CID</th>\n",
       "      <th>HBondDonorCount</th>\n",
       "      <th>HBondAcceptorCount</th>\n",
       "      <th>MolecularWeight</th>\n",
       "      <th>XLogP</th>\n",
       "      <th>ConnectivitySMILES</th>\n",
       "      <th>SMILES</th>\n",
       "      <th>HitFreq</th>\n",
       "    </tr>\n",
       "  </thead>\n",
       "  <tbody>\n",
       "    <tr>\n",
       "      <th>3</th>\n",
       "      <td>9910160</td>\n",
       "      <td>3</td>\n",
       "      <td>4</td>\n",
       "      <td>422.9</td>\n",
       "      <td>4.4</td>\n",
       "      <td>CC1=C(C(C(=C(N1)C)C(=O)O)C2=CC(=CC=C2)Cl)C(=O)...</td>\n",
       "      <td>CC1=C(C(C(=C(N1)C)C(=O)O)C2=CC(=CC=C2)Cl)C(=O)...</td>\n",
       "      <td>3</td>\n",
       "    </tr>\n",
       "    <tr>\n",
       "      <th>15</th>\n",
       "      <td>70155849</td>\n",
       "      <td>3</td>\n",
       "      <td>4</td>\n",
       "      <td>422.9</td>\n",
       "      <td>4.4</td>\n",
       "      <td>CC1=C(C(C(=C(N1)C)C(=O)O)C2=CC(=CC=C2)Cl)C(=O)...</td>\n",
       "      <td>CC1=C(C(C(=C(N1)C)C(=O)O)C2=CC(=CC=C2)Cl)C(=O)...</td>\n",
       "      <td>3</td>\n",
       "    </tr>\n",
       "  </tbody>\n",
       "</table>\n",
       "</div>"
      ],
      "text/plain": [
       "         CID  HBondDonorCount  HBondAcceptorCount  MolecularWeight  XLogP  \\\n",
       "3    9910160                3                   4            422.9    4.4   \n",
       "15  70155849                3                   4            422.9    4.4   \n",
       "\n",
       "                                   ConnectivitySMILES  \\\n",
       "3   CC1=C(C(C(=C(N1)C)C(=O)O)C2=CC(=CC=C2)Cl)C(=O)...   \n",
       "15  CC1=C(C(C(=C(N1)C)C(=O)O)C2=CC(=CC=C2)Cl)C(=O)...   \n",
       "\n",
       "                                               SMILES  HitFreq  \n",
       "3   CC1=C(C(C(=C(N1)C)C(=O)O)C2=CC(=CC=C2)Cl)C(=O)...        3  \n",
       "15  CC1=C(C(C(=C(N1)C)C(=O)O)C2=CC(=CC=C2)Cl)C(=O)...        3  "
      ]
     },
     "execution_count": 47,
     "metadata": {},
     "output_type": "execute_result"
    }
   ],
   "source": [
    "# Show all the entries for the first unique structure\n",
    "df[ df.ConnectivitySMILES == canonical_smiles[0] ] "
   ]
  },
  {
   "cell_type": "code",
   "execution_count": 49,
   "metadata": {},
   "outputs": [
    {
     "data": {
      "text/html": [
       "<div>\n",
       "<style scoped>\n",
       "    .dataframe tbody tr th:only-of-type {\n",
       "        vertical-align: middle;\n",
       "    }\n",
       "\n",
       "    .dataframe tbody tr th {\n",
       "        vertical-align: top;\n",
       "    }\n",
       "\n",
       "    .dataframe thead th {\n",
       "        text-align: right;\n",
       "    }\n",
       "</style>\n",
       "<table border=\"1\" class=\"dataframe\">\n",
       "  <thead>\n",
       "    <tr style=\"text-align: right;\">\n",
       "      <th></th>\n",
       "      <th>CID</th>\n",
       "      <th>HBondDonorCount</th>\n",
       "      <th>HBondAcceptorCount</th>\n",
       "      <th>MolecularWeight</th>\n",
       "      <th>XLogP</th>\n",
       "      <th>ConnectivitySMILES</th>\n",
       "      <th>SMILES</th>\n",
       "      <th>HitFreq</th>\n",
       "    </tr>\n",
       "  </thead>\n",
       "  <tbody>\n",
       "    <tr>\n",
       "      <th>4</th>\n",
       "      <td>9823695</td>\n",
       "      <td>3</td>\n",
       "      <td>4</td>\n",
       "      <td>424.9</td>\n",
       "      <td>4.6</td>\n",
       "      <td>CC1=C(C(C(=C(N1)C)C(=O)O)C2=CC(=CC=C2)Cl)C(=O)...</td>\n",
       "      <td>CC1=C(C(C(=C(N1)C)C(=O)O)C2=CC(=CC=C2)Cl)C(=O)...</td>\n",
       "      <td>3</td>\n",
       "    </tr>\n",
       "  </tbody>\n",
       "</table>\n",
       "</div>"
      ],
      "text/plain": [
       "       CID  HBondDonorCount  HBondAcceptorCount  MolecularWeight  XLogP  \\\n",
       "4  9823695                3                   4            424.9    4.6   \n",
       "\n",
       "                                  ConnectivitySMILES  \\\n",
       "4  CC1=C(C(C(=C(N1)C)C(=O)O)C2=CC(=CC=C2)Cl)C(=O)...   \n",
       "\n",
       "                                              SMILES  HitFreq  \n",
       "4  CC1=C(C(C(=C(N1)C)C(=O)O)C2=CC(=CC=C2)Cl)C(=O)...        3  "
      ]
     },
     "execution_count": 49,
     "metadata": {},
     "output_type": "execute_result"
    }
   ],
   "source": [
    "# Show all the entries for the second unique structure\n",
    "df[ df.ConnectivitySMILES == canonical_smiles[1] ] "
   ]
  },
  {
   "cell_type": "code",
   "execution_count": 52,
   "metadata": {},
   "outputs": [
    {
     "data": {
      "text/plain": [
       "['CC1=C(C(C(=C(N1)C)C(=O)O)C2=CC(=CC=C2)Cl)C(=O)NC/C=C/C3=CC=CC=C3',\n",
       " 'CC1=C(C(C(=C(N1)C)C(=O)O)C2=CC(=CC=C2)Cl)C(=O)NCC=CC3=CC=CC=C3']"
      ]
     },
     "execution_count": 52,
     "metadata": {},
     "output_type": "execute_result"
    }
   ],
   "source": [
    "# Show all the stereoisomers for the first unique structure\n",
    "df[ df.ConnectivitySMILES == canonical_smiles[0] ].SMILES.to_list() \n"
   ]
  },
  {
   "cell_type": "markdown",
   "metadata": {},
   "source": [
    "Now let's generate a list of unique compounds in terms of canonical SMILES.  If multiple compounds have the same canonical SMILES, the one that appears very first will be included in the unique compound list."
   ]
  },
  {
   "cell_type": "code",
   "execution_count": 54,
   "metadata": {},
   "outputs": [],
   "source": [
    "idx_to_include = []\n",
    "\n",
    "for mysmiles in canonical_smiles :\n",
    "\n",
    "    myidx = df[ df.ConnectivitySMILES == mysmiles ].index.to_list()[0]\n",
    "    \n",
    "    idx_to_include.append( myidx )"
   ]
  },
  {
   "cell_type": "code",
   "execution_count": 55,
   "metadata": {},
   "outputs": [
    {
     "data": {
      "text/plain": [
       "19112"
      ]
     },
     "execution_count": 55,
     "metadata": {},
     "output_type": "execute_result"
    }
   ],
   "source": [
    "len(idx_to_include)"
   ]
  },
  {
   "cell_type": "code",
   "execution_count": 56,
   "metadata": {},
   "outputs": [
    {
     "name": "stdout",
     "output_type": "stream",
     "text": [
      "0\n"
     ]
    }
   ],
   "source": [
    "# Create a new column 'Include' \n",
    "# All values initialized to 0 (not include)\n",
    "df['Include'] = 0 \n",
    "print(df['Include'].sum()) # Show the total number of included compounds, should be 0 now"
   ]
  },
  {
   "cell_type": "code",
   "execution_count": 57,
   "metadata": {},
   "outputs": [
    {
     "name": "stdout",
     "output_type": "stream",
     "text": [
      "19112\n"
     ]
    }
   ],
   "source": [
    "# Now the \"Include\" column's value is modified if the record is in the idx_to_include list.\n",
    "df.loc[idx_to_include,'Include'] = 1 # Set \"Include\" to 1 for the selected records\n",
    "print(df['Include'].sum()) # Show the total number of included compounds, should be equal to the number of unique structures"
   ]
  },
  {
   "cell_type": "code",
   "execution_count": 58,
   "metadata": {},
   "outputs": [
    {
     "data": {
      "text/html": [
       "<div>\n",
       "<style scoped>\n",
       "    .dataframe tbody tr th:only-of-type {\n",
       "        vertical-align: middle;\n",
       "    }\n",
       "\n",
       "    .dataframe tbody tr th {\n",
       "        vertical-align: top;\n",
       "    }\n",
       "\n",
       "    .dataframe thead th {\n",
       "        text-align: right;\n",
       "    }\n",
       "</style>\n",
       "<table border=\"1\" class=\"dataframe\">\n",
       "  <thead>\n",
       "    <tr style=\"text-align: right;\">\n",
       "      <th></th>\n",
       "      <th>CID</th>\n",
       "      <th>Include</th>\n",
       "    </tr>\n",
       "  </thead>\n",
       "  <tbody>\n",
       "    <tr>\n",
       "      <th>3</th>\n",
       "      <td>9910160</td>\n",
       "      <td>1</td>\n",
       "    </tr>\n",
       "    <tr>\n",
       "      <th>4</th>\n",
       "      <td>9823695</td>\n",
       "      <td>1</td>\n",
       "    </tr>\n",
       "    <tr>\n",
       "      <th>5</th>\n",
       "      <td>15838575</td>\n",
       "      <td>1</td>\n",
       "    </tr>\n",
       "    <tr>\n",
       "      <th>6</th>\n",
       "      <td>15838576</td>\n",
       "      <td>1</td>\n",
       "    </tr>\n",
       "    <tr>\n",
       "      <th>7</th>\n",
       "      <td>18318270</td>\n",
       "      <td>1</td>\n",
       "    </tr>\n",
       "    <tr>\n",
       "      <th>8</th>\n",
       "      <td>18318274</td>\n",
       "      <td>1</td>\n",
       "    </tr>\n",
       "    <tr>\n",
       "      <th>10</th>\n",
       "      <td>18318313</td>\n",
       "      <td>1</td>\n",
       "    </tr>\n",
       "    <tr>\n",
       "      <th>11</th>\n",
       "      <td>18318317</td>\n",
       "      <td>1</td>\n",
       "    </tr>\n",
       "    <tr>\n",
       "      <th>12</th>\n",
       "      <td>20183492</td>\n",
       "      <td>1</td>\n",
       "    </tr>\n",
       "    <tr>\n",
       "      <th>13</th>\n",
       "      <td>70073800</td>\n",
       "      <td>0</td>\n",
       "    </tr>\n",
       "    <tr>\n",
       "      <th>14</th>\n",
       "      <td>70074958</td>\n",
       "      <td>0</td>\n",
       "    </tr>\n",
       "    <tr>\n",
       "      <th>15</th>\n",
       "      <td>70155849</td>\n",
       "      <td>0</td>\n",
       "    </tr>\n",
       "    <tr>\n",
       "      <th>16</th>\n",
       "      <td>70157306</td>\n",
       "      <td>0</td>\n",
       "    </tr>\n",
       "    <tr>\n",
       "      <th>17</th>\n",
       "      <td>70157737</td>\n",
       "      <td>0</td>\n",
       "    </tr>\n",
       "    <tr>\n",
       "      <th>18</th>\n",
       "      <td>118694396</td>\n",
       "      <td>1</td>\n",
       "    </tr>\n",
       "  </tbody>\n",
       "</table>\n",
       "</div>"
      ],
      "text/plain": [
       "          CID  Include\n",
       "3     9910160        1\n",
       "4     9823695        1\n",
       "5    15838575        1\n",
       "6    15838576        1\n",
       "7    18318270        1\n",
       "8    18318274        1\n",
       "10   18318313        1\n",
       "11   18318317        1\n",
       "12   20183492        1\n",
       "13   70073800        0\n",
       "14   70074958        0\n",
       "15   70155849        0\n",
       "16   70157306        0\n",
       "17   70157737        0\n",
       "18  118694396        1"
      ]
     },
     "execution_count": 58,
     "metadata": {},
     "output_type": "execute_result"
    }
   ],
   "source": [
    "df[['CID','Include']].head(15) # Show the first 15 rows of the \"CID\" and \"Include\" columns\n"
   ]
  },
  {
   "cell_type": "markdown",
   "metadata": {},
   "source": [
    "Now draw the top 10 unique compounds (in terms of canonical SMILES). Note the, the structure figures are drawn using isomeric SMILES, but canonical SMILES strings could be used."
   ]
  },
  {
   "cell_type": "code",
   "execution_count": 59,
   "metadata": {},
   "outputs": [
    {
     "name": "stdout",
     "output_type": "stream",
     "text": [
      "[11779854, 168140615, 166196489, 141135915, 118078858, 53013349, 17600716, 131851009, 110098384, 110098233]\n"
     ]
    }
   ],
   "source": [
    "cids_top = df[ df['Include'] == 1].sort_values(by=['HitFreq', 'CID'], ascending=False).head(10).CID.to_list()\n",
    "print(cids_top)"
   ]
  },
  {
   "cell_type": "code",
   "execution_count": 60,
   "metadata": {},
   "outputs": [
    {
     "ename": "AttributeError",
     "evalue": "'DataFrame' object has no attribute 'IsomericSMILES'",
     "output_type": "error",
     "traceback": [
      "\u001b[0;31m---------------------------------------------------------------------------\u001b[0m",
      "\u001b[0;31mAttributeError\u001b[0m                            Traceback (most recent call last)",
      "\u001b[0;32m/tmp/ipykernel_13289/1191973753.py\u001b[0m in \u001b[0;36m?\u001b[0;34m()\u001b[0m\n\u001b[1;32m      1\u001b[0m \u001b[0mmols\u001b[0m \u001b[0;34m=\u001b[0m \u001b[0;34m[\u001b[0m\u001b[0;34m]\u001b[0m\u001b[0;34m\u001b[0m\u001b[0;34m\u001b[0m\u001b[0m\n\u001b[1;32m      2\u001b[0m \u001b[0;34m\u001b[0m\u001b[0m\n\u001b[1;32m      3\u001b[0m \u001b[0;32mfor\u001b[0m \u001b[0mmycid\u001b[0m \u001b[0;32min\u001b[0m \u001b[0mcids_top\u001b[0m \u001b[0;34m:\u001b[0m\u001b[0;34m\u001b[0m\u001b[0;34m\u001b[0m\u001b[0m\n\u001b[1;32m      4\u001b[0m \u001b[0;34m\u001b[0m\u001b[0m\n\u001b[0;32m----> 5\u001b[0;31m     \u001b[0mmysmiles\u001b[0m \u001b[0;34m=\u001b[0m \u001b[0mdf\u001b[0m\u001b[0;34m[\u001b[0m \u001b[0mdf\u001b[0m\u001b[0;34m.\u001b[0m\u001b[0mCID\u001b[0m\u001b[0;34m==\u001b[0m\u001b[0mmycid\u001b[0m \u001b[0;34m]\u001b[0m\u001b[0;34m.\u001b[0m\u001b[0mIsomericSMILES\u001b[0m\u001b[0;34m.\u001b[0m\u001b[0mitem\u001b[0m\u001b[0;34m(\u001b[0m\u001b[0;34m)\u001b[0m\u001b[0;34m\u001b[0m\u001b[0;34m\u001b[0m\u001b[0m\n\u001b[0m\u001b[1;32m      6\u001b[0m \u001b[0;34m\u001b[0m\u001b[0m\n\u001b[1;32m      7\u001b[0m     \u001b[0mmol\u001b[0m \u001b[0;34m=\u001b[0m \u001b[0mChem\u001b[0m\u001b[0;34m.\u001b[0m\u001b[0mMolFromSmiles\u001b[0m\u001b[0;34m(\u001b[0m \u001b[0mmysmiles\u001b[0m \u001b[0;34m)\u001b[0m\u001b[0;34m\u001b[0m\u001b[0;34m\u001b[0m\u001b[0m\n\u001b[1;32m      8\u001b[0m     \u001b[0mChem\u001b[0m\u001b[0;34m.\u001b[0m\u001b[0mFindPotentialStereoBonds\u001b[0m\u001b[0;34m(\u001b[0m\u001b[0mmol\u001b[0m\u001b[0;34m)\u001b[0m    \u001b[0;31m# Identify potential stereo bonds!\u001b[0m\u001b[0;34m\u001b[0m\u001b[0;34m\u001b[0m\u001b[0m\n",
      "\u001b[0;32m~/miniconda3/envs/datachem/lib/python3.10/site-packages/pandas/core/generic.py\u001b[0m in \u001b[0;36m?\u001b[0;34m(self, name)\u001b[0m\n\u001b[1;32m   6314\u001b[0m             \u001b[0;32mand\u001b[0m \u001b[0mname\u001b[0m \u001b[0;32mnot\u001b[0m \u001b[0;32min\u001b[0m \u001b[0mself\u001b[0m\u001b[0;34m.\u001b[0m\u001b[0m_accessors\u001b[0m\u001b[0;34m\u001b[0m\u001b[0;34m\u001b[0m\u001b[0m\n\u001b[1;32m   6315\u001b[0m             \u001b[0;32mand\u001b[0m \u001b[0mself\u001b[0m\u001b[0;34m.\u001b[0m\u001b[0m_info_axis\u001b[0m\u001b[0;34m.\u001b[0m\u001b[0m_can_hold_identifiers_and_holds_name\u001b[0m\u001b[0;34m(\u001b[0m\u001b[0mname\u001b[0m\u001b[0;34m)\u001b[0m\u001b[0;34m\u001b[0m\u001b[0;34m\u001b[0m\u001b[0m\n\u001b[1;32m   6316\u001b[0m         ):\n\u001b[1;32m   6317\u001b[0m             \u001b[0;32mreturn\u001b[0m \u001b[0mself\u001b[0m\u001b[0;34m[\u001b[0m\u001b[0mname\u001b[0m\u001b[0;34m]\u001b[0m\u001b[0;34m\u001b[0m\u001b[0;34m\u001b[0m\u001b[0m\n\u001b[0;32m-> 6318\u001b[0;31m         \u001b[0;32mreturn\u001b[0m \u001b[0mobject\u001b[0m\u001b[0;34m.\u001b[0m\u001b[0m__getattribute__\u001b[0m\u001b[0;34m(\u001b[0m\u001b[0mself\u001b[0m\u001b[0;34m,\u001b[0m \u001b[0mname\u001b[0m\u001b[0;34m)\u001b[0m\u001b[0;34m\u001b[0m\u001b[0;34m\u001b[0m\u001b[0m\n\u001b[0m",
      "\u001b[0;31mAttributeError\u001b[0m: 'DataFrame' object has no attribute 'IsomericSMILES'"
     ]
    }
   ],
   "source": [
    "mols = []\n",
    "\n",
    "for mycid in cids_top :\n",
    "    \n",
    "    mysmiles = df[ df.CID==mycid ].IsomericSMILES.item()\n",
    "    \n",
    "    mol = Chem.MolFromSmiles( mysmiles )\n",
    "    Chem.FindPotentialStereoBonds(mol)    # Identify potential stereo bonds!\n",
    "    mols.append(mol)\n",
    "\n",
    "mylegends = [ \"CID \" + str(x) for x in cids_top ]\n",
    "img = Draw.MolsToGridImage(mols, molsPerRow=5, subImgSize=(200,200), legends=mylegends)\n",
    "display(img)"
   ]
  },
  {
   "cell_type": "markdown",
   "metadata": {},
   "source": [
    "<div class=\"alert alert-block alert-warning\">\n",
    "<Strong>Check Your Understanding</strong>\n",
    "\n",
    "- Recall from cell [46] that row 15 CID 70155849 is an isomer of row 3. In Cell [55] how do you know this was excluded because it was an isomer?\n",
    "\n",
    "- Previously we showed CIDs 93077065 and 93077064 are stereoisomers of each other and CID 53013349 has the same connectivity as the two CIDs, but with its stereocenter being unspecified. All three were in our original display of the top 10 unique molecules. Which of these are in our new list?"
   ]
  },
  {
   "cell_type": "markdown",
   "metadata": {},
   "source": [
    "## 7. Saving molecules in files"
   ]
  },
  {
   "cell_type": "markdown",
   "metadata": {},
   "source": [
    "Now save the molecules in the cids_top list in files, which will be used in molecular docking experiments.  For simplicity, we will use only the **top 3** compounds in the list."
   ]
  },
  {
   "cell_type": "code",
   "execution_count": 62,
   "metadata": {},
   "outputs": [],
   "source": [
    "from rdkit.Chem import AllChem\n",
    "\n",
    "for idx, mycid in enumerate( cids_top ) :\n",
    "\n",
    "    if idx == 3 :\n",
    "        break\n",
    "        \n",
    "    mysmiles = df[ df['CID'] == mycid ].SMILES.item()\n",
    "\n",
    "    mymol = Chem.MolFromSmiles(mysmiles)\n",
    "    mymol = Chem.AddHs(mymol)\n",
    "    AllChem.EmbedMolecule(mymol)\n",
    "    AllChem.MMFFOptimizeMolecule(mymol)\n",
    "\n",
    "    filename = \"pygm_lig\" + str(idx) + \"_\" + str(mycid) + \".mol\"\n",
    "    Chem.MolToMolFile(mymol, filename)\n"
   ]
  },
  {
   "cell_type": "markdown",
   "metadata": {},
   "source": [
    "To save all data in the **df** data frame (in CSV) "
   ]
  },
  {
   "cell_type": "code",
   "execution_count": 63,
   "metadata": {},
   "outputs": [],
   "source": [
    "df.to_csv('pygm_df.csv')"
   ]
  },
  {
   "cell_type": "markdown",
   "metadata": {},
   "source": [
    "<div class=\"alert alert-block alert-success\">\n",
    "<center><H1>Homework</H1></center>"
   ]
  },
  {
   "attachments": {},
   "cell_type": "markdown",
   "metadata": {},
   "source": [
    "In this activity you used filtered by Lipinski's Rule of Five(Ro5) and saved those molecules in pygm_df.csv. The Ro5 focuses on drug-likeness helping to identify favorable properties for oral bioavailability which is important in the later stages of the drug development pipeline. \n",
    "\n",
    "If we are interested in creating a list of molecues that are potentially interesting in the early phases of drug discovery, there is another set of rules that emphasizes \"lead-likeness\". Leads are molecules that serve as a starting point modify and create drugs for testing. \n",
    "\n",
    "Miles Congreve proposed the <a href=\"https://pubmed.ncbi.nlm.nih.gov/14554012/\">\"Rule of 3\"</a> to create a list of lead like filters rather than drug like filters. \n",
    "\n",
    "Congreve’s rule of 3\n",
    "- The number of hydrogen bond donors ≤3\n",
    "- The number of hydrogen bond acceptors ≤ 3\n",
    "- Molecular weight < 300\n",
    "- XlogP ≤ 3"
   ]
  },
  {
   "cell_type": "markdown",
   "metadata": {},
   "source": [
    "#### Step 1\n",
    "Load the actives_final.ism for cyclooxygenase-2 (Target Name: PGH2, PDB ID: 3ln1) from the DUD-E database into a pandas DataFrame called df_COX2_act. After loading the data, show the following information:\n",
    "\n",
    "- the number of rows of the data frame\n",
    "- the first five rows of the data frame"
   ]
  },
  {
   "cell_type": "code",
   "execution_count": null,
   "metadata": {},
   "outputs": [],
   "source": [
    "# Write your code here"
   ]
  },
  {
   "cell_type": "markdown",
   "metadata": {},
   "source": [
    "#### Step 2 \n",
    "Perform similarity search using each of the isomeric SMILES contained in the loaded data frame.\n",
    "\n",
    "- As we did for PYGM ligands in this notebook, track the number of times a particular hit is returned from multiple queries, using a dictionary named cids_hit (CIDs as keys and the frequencies as values). This information will be used to rank the hit compounds.\n",
    "- Make sure that the CIDs are recognized as integers when they are used as keys in the dictionary.\n",
    "- Print the total number of hits returned from this step (which is the same as the number of CIDs in **cids_hit**).\n",
    "- Add time.sleep() to avoid overloading PubChem servers."
   ]
  },
  {
   "cell_type": "code",
   "execution_count": null,
   "metadata": {},
   "outputs": [],
   "source": [
    "# Write your code here"
   ]
  },
  {
   "cell_type": "markdown",
   "metadata": {},
   "source": [
    "#### Step 3\n",
    "The hit list from the above step may contain the query compounds themselves. Get the CIDs of the query compounds through idenitity search and remove them from the hit list.\n",
    "\n",
    "- Set the optional parameter \"identity_type\" to \"same_connectivity\".\n",
    "- Add time.sleep() to avoid overloading PubChem servers.\n",
    "- Print the number of CIDs corresponding to the query compounds.\n",
    "- Print the number of the remaining hit compounds, after removing the query compounds from the hit list."
   ]
  },
  {
   "cell_type": "code",
   "execution_count": null,
   "metadata": {},
   "outputs": [],
   "source": [
    "# Write your code here"
   ]
  },
  {
   "cell_type": "markdown",
   "metadata": {},
   "source": [
    "#### Step 4\n",
    "Download the hydrogen donor and acceptor counts, molecular weights, XlogP, and canonical and isomeric SMILES for each compound in cids_hit. Load the downloaded data into a new data frame called df_COX2_raw. Print the size (or dimension) of the data frame using .shape."
   ]
  },
  {
   "cell_type": "code",
   "execution_count": null,
   "metadata": {},
   "outputs": [],
   "source": [
    "# Write your code here"
   ]
  },
  {
   "cell_type": "markdown",
   "metadata": {},
   "source": [
    "#### Step 5\n",
    "Create a new data frame called df_COX2_combined, which combines the data stored in cids_hit and df_COX2_raw.\n",
    "\n",
    "- First load the frequency data into a new data frame called df_COX2_freq\n",
    "- Join df_COX2_raw and df_COX2_freq into df_COX2_combined\n",
    "- Print the shape (dimension) of df_COX2_combined"
   ]
  },
  {
   "cell_type": "code",
   "execution_count": null,
   "metadata": {},
   "outputs": [],
   "source": [
    "# Write your code here"
   ]
  },
  {
   "cell_type": "markdown",
   "metadata": {},
   "source": [
    "#### Step 6\n",
    "Remove from df_COX2_combined **all** compounds that violate **any** criterion of Congreve's rule of 3 and show the number of remaining compounds."
   ]
  },
  {
   "cell_type": "code",
   "execution_count": null,
   "metadata": {},
   "outputs": [],
   "source": [
    "# Write your code here"
   ]
  },
  {
   "cell_type": "markdown",
   "metadata": {},
   "source": [
    "#### Step 7\n",
    "Get the unique canonical SMILES strings from the df_COX2_combined. Add to df_COX2_combined a column named 'Include', which contains a flag set to 1 for the lowest CID associated with each unique CID and set to 0 for other CIDs. Show the number of compounds for which this flag is set to 1."
   ]
  },
  {
   "cell_type": "code",
   "execution_count": null,
   "metadata": {},
   "outputs": [],
   "source": [
    "# Write your code here"
   ]
  },
  {
   "cell_type": "markdown",
   "metadata": {},
   "source": [
    "#### Step 8\n",
    "Among those with the \"Include\" flag set to 1, identify the top 10 compounds that were returned from the largest number of query compounds.\n",
    "\n",
    "- Sort the data frame by the number of times returned (in descending order) and then by CID (in ascending order)\n",
    "- For each of the 10 compounds, print its CID, isomeric SMILES, and the number of times it was returned.\n",
    "- For each of the 10 compounds, draw its structure (using isomeric SMILES).\n",
    "\n",
    "\n"
   ]
  },
  {
   "cell_type": "code",
   "execution_count": null,
   "metadata": {},
   "outputs": [],
   "source": [
    "# Write your code here"
   ]
  },
  {
   "cell_type": "markdown",
   "metadata": {},
   "source": [
    "#### Step 9\n",
    "Now save the **top 3** compounds with CID and Isomeric SMILES in a file called COX2_congreve.csv. "
   ]
  },
  {
   "cell_type": "code",
   "execution_count": null,
   "metadata": {},
   "outputs": [],
   "source": [
    "# Write your code here"
   ]
  }
 ],
 "metadata": {
  "kernelspec": {
   "display_name": "dataChem(py3.10)",
   "language": "python",
   "name": "datachem"
  },
  "language_info": {
   "codemirror_mode": {
    "name": "ipython",
    "version": 3
   },
   "file_extension": ".py",
   "mimetype": "text/x-python",
   "name": "python",
   "nbconvert_exporter": "python",
   "pygments_lexer": "ipython3",
   "version": "3.10.12"
  }
 },
 "nbformat": 4,
 "nbformat_minor": 4
}
